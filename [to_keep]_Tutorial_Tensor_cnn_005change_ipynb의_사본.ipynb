{
  "nbformat": 4,
  "nbformat_minor": 0,
  "metadata": {
    "colab": {
      "name": "[to keep] Tutorial-Tensor-cnn-005change.ipynb의 사본",
      "provenance": [],
      "collapsed_sections": [],
      "authorship_tag": "ABX9TyPJf5gquLXwolcvRc3DxENc",
      "include_colab_link": true
    },
    "kernelspec": {
      "name": "python3",
      "display_name": "Python 3"
    }
  },
  "cells": [
    {
      "cell_type": "markdown",
      "metadata": {
        "id": "view-in-github",
        "colab_type": "text"
      },
      "source": [
        "<a href=\"https://colab.research.google.com/github/BryanBYChoi/GuessMotherTable/blob/master/%5Bto_keep%5D_Tutorial_Tensor_cnn_005change_ipynb%EC%9D%98_%EC%82%AC%EB%B3%B8.ipynb\" target=\"_parent\"><img src=\"https://colab.research.google.com/assets/colab-badge.svg\" alt=\"Open In Colab\"/></a>"
      ]
    },
    {
      "cell_type": "code",
      "metadata": {
        "id": "iLfa2NxYzENf",
        "colab_type": "code",
        "colab": {}
      },
      "source": [
        ""
      ],
      "execution_count": null,
      "outputs": []
    },
    {
      "cell_type": "markdown",
      "metadata": {
        "id": "EIB6AQ6KJJf6",
        "colab_type": "text"
      },
      "source": [
        ""
      ]
    },
    {
      "cell_type": "markdown",
      "metadata": {
        "id": "kFdJWnoBzFMp",
        "colab_type": "text"
      },
      "source": [
        "From Basic Tutorials to CNN cifar10"
      ]
    },
    {
      "cell_type": "code",
      "metadata": {
        "id": "T8f5t-0TxCIs",
        "colab_type": "code",
        "colab": {
          "base_uri": "https://localhost:8080/",
          "height": 70
        },
        "outputId": "da9a3044-103f-450e-c9fd-73f87e77b663"
      },
      "source": [
        "from __future__ import absolute_import, division, print_function, unicode_literals\n",
        "\n",
        "!pip install -q tensorflow-gpu==2.0.0-rc1\n",
        "import tensorflow as tf\n",
        "from tensorflow import keras\n",
        "\n",
        "from tensorflow.keras import datasets, layers, models"
      ],
      "execution_count": null,
      "outputs": [
        {
          "output_type": "stream",
          "text": [
            "\u001b[K     |████████████████████████████████| 380.5MB 42kB/s \n",
            "\u001b[K     |████████████████████████████████| 501kB 47.7MB/s \n",
            "\u001b[K     |████████████████████████████████| 4.3MB 49.7MB/s \n",
            "\u001b[?25h"
          ],
          "name": "stdout"
        }
      ]
    },
    {
      "cell_type": "code",
      "metadata": {
        "id": "vxWC1cgYxC1A",
        "colab_type": "code",
        "colab": {
          "base_uri": "https://localhost:8080/",
          "height": 70
        },
        "outputId": "484a034f-c684-4211-8a03-8e525b2b1b1f"
      },
      "source": [
        "from keras.datasets import cifar10\n",
        "\n",
        "(train_images, train_labels), (test_images, test_labels) = cifar10.load_data()\n"
      ],
      "execution_count": null,
      "outputs": [
        {
          "output_type": "stream",
          "text": [
            "Using TensorFlow backend.\n"
          ],
          "name": "stderr"
        },
        {
          "output_type": "stream",
          "text": [
            "Downloading data from https://www.cs.toronto.edu/~kriz/cifar-10-python.tar.gz\n",
            "170500096/170498071 [==============================] - 2s 0us/step\n"
          ],
          "name": "stdout"
        }
      ]
    },
    {
      "cell_type": "code",
      "metadata": {
        "id": "d_SER7ERHbqo",
        "colab_type": "code",
        "colab": {}
      },
      "source": [
        "\n",
        "train_images = train_images.reshape((-1, 32, 32, 3))\n",
        "test_images = test_images.reshape((-1, 32, 32, 3))\n",
        "\n",
        "# 픽셀 값을 0~1 사이로 정규화합니다.\n",
        "train_images, test_images = train_images / 255.0, test_images / 255.0"
      ],
      "execution_count": null,
      "outputs": []
    },
    {
      "cell_type": "code",
      "metadata": {
        "id": "8sIrKFoqxWEi",
        "colab_type": "code",
        "colab": {}
      },
      "source": [
        "model = models.Sequential()\n",
        "model.add(layers.Conv2D(32, kernel_size=(5, 5), padding='same', strides=1, activation='relu', input_shape=(32, 32, 3)))\n",
        "model.add(layers.MaxPooling2D((2, 2)))\n",
        "model.add(layers.Conv2D(64, (3, 3), activation='relu'))\n",
        "model.add(layers.MaxPooling2D((2, 2)))\n",
        "model.add(layers.Conv2D(64, (2, 2), activation='relu'))\n",
        "model.add(layers.Conv2D(64, (2, 2), activation='relu'))\n",
        "model.add(layers.Conv2D(64, (2, 2), activation='relu'))\n",
        "model.add(layers.MaxPooling2D((2, 2)))"
      ],
      "execution_count": null,
      "outputs": []
    },
    {
      "cell_type": "code",
      "metadata": {
        "id": "pZsmL5y7xaQo",
        "colab_type": "code",
        "colab": {
          "base_uri": "https://localhost:8080/",
          "height": 437
        },
        "outputId": "1af7771a-fcbe-4987-f0d3-5303c280771d"
      },
      "source": [
        "model.summary()\n"
      ],
      "execution_count": null,
      "outputs": [
        {
          "output_type": "stream",
          "text": [
            "Model: \"sequential\"\n",
            "_________________________________________________________________\n",
            "Layer (type)                 Output Shape              Param #   \n",
            "=================================================================\n",
            "conv2d (Conv2D)              (None, 31, 31, 32)        416       \n",
            "_________________________________________________________________\n",
            "max_pooling2d (MaxPooling2D) (None, 15, 15, 32)        0         \n",
            "_________________________________________________________________\n",
            "conv2d_1 (Conv2D)            (None, 14, 14, 64)        8256      \n",
            "_________________________________________________________________\n",
            "max_pooling2d_1 (MaxPooling2 (None, 7, 7, 64)          0         \n",
            "_________________________________________________________________\n",
            "conv2d_2 (Conv2D)            (None, 6, 6, 64)          16448     \n",
            "_________________________________________________________________\n",
            "conv2d_3 (Conv2D)            (None, 5, 5, 64)          16448     \n",
            "_________________________________________________________________\n",
            "conv2d_4 (Conv2D)            (None, 4, 4, 64)          16448     \n",
            "_________________________________________________________________\n",
            "max_pooling2d_2 (MaxPooling2 (None, 2, 2, 64)          0         \n",
            "=================================================================\n",
            "Total params: 58,016\n",
            "Trainable params: 58,016\n",
            "Non-trainable params: 0\n",
            "_________________________________________________________________\n"
          ],
          "name": "stdout"
        }
      ]
    },
    {
      "cell_type": "code",
      "metadata": {
        "id": "p7gwPaDgxdA4",
        "colab_type": "code",
        "colab": {}
      },
      "source": [
        "model.add(layers.Flatten())\n",
        "model.add(layers.Dense(64, activation='relu'))\n",
        "model.add(layers.Dropout(0.5))\n",
        "model.add(layers.Dense(10, activation='softmax'))"
      ],
      "execution_count": null,
      "outputs": []
    },
    {
      "cell_type": "code",
      "metadata": {
        "id": "okjPYZslxg_Q",
        "colab_type": "code",
        "colab": {
          "base_uri": "https://localhost:8080/",
          "height": 577
        },
        "outputId": "4123d89e-1baf-4a32-9313-99afd060c3ed"
      },
      "source": [
        "model.summary()"
      ],
      "execution_count": null,
      "outputs": [
        {
          "output_type": "stream",
          "text": [
            "Model: \"sequential_22\"\n",
            "_________________________________________________________________\n",
            "Layer (type)                 Output Shape              Param #   \n",
            "=================================================================\n",
            "conv2d_21 (Conv2D)           (None, 32, 32, 32)        2432      \n",
            "_________________________________________________________________\n",
            "max_pooling2d (MaxPooling2D) (None, 16, 16, 32)        0         \n",
            "_________________________________________________________________\n",
            "conv2d_22 (Conv2D)           (None, 14, 14, 64)        18496     \n",
            "_________________________________________________________________\n",
            "max_pooling2d_1 (MaxPooling2 (None, 7, 7, 64)          0         \n",
            "_________________________________________________________________\n",
            "conv2d_23 (Conv2D)           (None, 6, 6, 64)          16448     \n",
            "_________________________________________________________________\n",
            "conv2d_24 (Conv2D)           (None, 5, 5, 64)          16448     \n",
            "_________________________________________________________________\n",
            "conv2d_25 (Conv2D)           (None, 4, 4, 64)          16448     \n",
            "_________________________________________________________________\n",
            "max_pooling2d_2 (MaxPooling2 (None, 2, 2, 64)          0         \n",
            "_________________________________________________________________\n",
            "flatten (Flatten)            (None, 256)               0         \n",
            "_________________________________________________________________\n",
            "dense (Dense)                (None, 64)                16448     \n",
            "_________________________________________________________________\n",
            "dropout (Dropout)            (None, 64)                0         \n",
            "_________________________________________________________________\n",
            "dense_1 (Dense)              (None, 10)                650       \n",
            "=================================================================\n",
            "Total params: 87,370\n",
            "Trainable params: 87,370\n",
            "Non-trainable params: 0\n",
            "_________________________________________________________________\n"
          ],
          "name": "stdout"
        }
      ]
    },
    {
      "cell_type": "code",
      "metadata": {
        "id": "bMwVrsbXxlF9",
        "colab_type": "code",
        "colab": {
          "base_uri": "https://localhost:8080/",
          "height": 1000
        },
        "outputId": "fe14dbf2-c2f3-4b50-fb71-3853043a10d7"
      },
      "source": [
        "model.compile(optimizer= keras.optimizers.Adam(lr=0.001, beta_1=0.9, beta_2=0.999, epsilon=None, decay=0.0, amsgrad=False),\n",
        "              loss='sparse_categorical_crossentropy',\n",
        "              metrics=['accuracy'])\n",
        "\n",
        "results = model.fit(train_images, train_labels,\n",
        "          epochs=150,\n",
        "          batch_size=16,\n",
        "          validation_data=(test_images, test_labels))\n",
        "\n",
        "model.save_weights('first_try.h5') "
      ],
      "execution_count": null,
      "outputs": [
        {
          "output_type": "stream",
          "text": [
            "Train on 50000 samples, validate on 10000 samples\n",
            "Epoch 1/150\n",
            "WARNING:tensorflow:Entity <function Function._initialize_uninitialized_variables.<locals>.initialize_variables at 0x7fd43a923158> could not be transformed and will be executed as-is. Please report this to the AutoGraph team. When filing the bug, set the verbosity to 10 (on Linux, `export AUTOGRAPH_VERBOSITY=10`) and attach the full output. Cause: module 'gast' has no attribute 'Num'\n",
            "WARNING: Entity <function Function._initialize_uninitialized_variables.<locals>.initialize_variables at 0x7fd43a923158> could not be transformed and will be executed as-is. Please report this to the AutoGraph team. When filing the bug, set the verbosity to 10 (on Linux, `export AUTOGRAPH_VERBOSITY=10`) and attach the full output. Cause: module 'gast' has no attribute 'Num'\n",
            "50000/50000 [==============================] - 129s 3ms/sample - loss: 0.9301 - accuracy: 0.6793 - val_loss: 1.0068 - val_accuracy: 0.6581\n",
            "Epoch 2/150\n",
            "50000/50000 [==============================] - 130s 3ms/sample - loss: 0.9091 - accuracy: 0.6829 - val_loss: 0.9911 - val_accuracy: 0.6761\n",
            "Epoch 3/150\n",
            "50000/50000 [==============================] - 131s 3ms/sample - loss: 0.8845 - accuracy: 0.6914 - val_loss: 1.0039 - val_accuracy: 0.6663\n",
            "Epoch 4/150\n",
            "50000/50000 [==============================] - 132s 3ms/sample - loss: 0.8654 - accuracy: 0.7006 - val_loss: 1.0044 - val_accuracy: 0.6678\n",
            "Epoch 5/150\n",
            "50000/50000 [==============================] - 131s 3ms/sample - loss: 0.8473 - accuracy: 0.7083 - val_loss: 0.9995 - val_accuracy: 0.6694\n",
            "Epoch 6/150\n",
            "50000/50000 [==============================] - 131s 3ms/sample - loss: 0.8349 - accuracy: 0.7102 - val_loss: 0.9955 - val_accuracy: 0.6598\n",
            "Epoch 7/150\n",
            "50000/50000 [==============================] - 131s 3ms/sample - loss: 0.8157 - accuracy: 0.7182 - val_loss: 0.9856 - val_accuracy: 0.6746\n",
            "Epoch 8/150\n",
            "50000/50000 [==============================] - 132s 3ms/sample - loss: 0.8038 - accuracy: 0.7219 - val_loss: 1.0392 - val_accuracy: 0.6590\n",
            "Epoch 9/150\n",
            "50000/50000 [==============================] - 130s 3ms/sample - loss: 0.7944 - accuracy: 0.7256 - val_loss: 1.0596 - val_accuracy: 0.6518\n",
            "Epoch 10/150\n",
            "50000/50000 [==============================] - 131s 3ms/sample - loss: 0.7879 - accuracy: 0.7273 - val_loss: 0.9834 - val_accuracy: 0.6735\n",
            "Epoch 11/150\n",
            "50000/50000 [==============================] - 131s 3ms/sample - loss: 0.7734 - accuracy: 0.7334 - val_loss: 1.0067 - val_accuracy: 0.6782\n",
            "Epoch 12/150\n",
            "50000/50000 [==============================] - 132s 3ms/sample - loss: 0.7641 - accuracy: 0.7355 - val_loss: 0.9675 - val_accuracy: 0.6900\n",
            "Epoch 13/150\n",
            "50000/50000 [==============================] - 132s 3ms/sample - loss: 0.7515 - accuracy: 0.7407 - val_loss: 1.0016 - val_accuracy: 0.6800\n",
            "Epoch 14/150\n",
            "50000/50000 [==============================] - 135s 3ms/sample - loss: 0.7329 - accuracy: 0.7445 - val_loss: 0.9819 - val_accuracy: 0.6898\n",
            "Epoch 15/150\n",
            "50000/50000 [==============================] - 131s 3ms/sample - loss: 0.7335 - accuracy: 0.7466 - val_loss: 0.9924 - val_accuracy: 0.6788\n",
            "Epoch 16/150\n",
            "50000/50000 [==============================] - 127s 3ms/sample - loss: 0.7200 - accuracy: 0.7499 - val_loss: 1.0396 - val_accuracy: 0.6770\n",
            "Epoch 17/150\n",
            "50000/50000 [==============================] - 129s 3ms/sample - loss: 0.7139 - accuracy: 0.7530 - val_loss: 0.9915 - val_accuracy: 0.6928\n",
            "Epoch 18/150\n",
            "50000/50000 [==============================] - 135s 3ms/sample - loss: 0.7023 - accuracy: 0.7586 - val_loss: 0.9814 - val_accuracy: 0.6897\n",
            "Epoch 19/150\n",
            "50000/50000 [==============================] - 134s 3ms/sample - loss: 0.6964 - accuracy: 0.7577 - val_loss: 0.9954 - val_accuracy: 0.6965\n",
            "Epoch 20/150\n",
            "50000/50000 [==============================] - 135s 3ms/sample - loss: 0.6881 - accuracy: 0.7608 - val_loss: 1.0407 - val_accuracy: 0.6888\n",
            "Epoch 21/150\n",
            "50000/50000 [==============================] - 135s 3ms/sample - loss: 0.6830 - accuracy: 0.7624 - val_loss: 1.0138 - val_accuracy: 0.6867\n",
            "Epoch 22/150\n",
            "50000/50000 [==============================] - 136s 3ms/sample - loss: 0.6798 - accuracy: 0.7635 - val_loss: 1.0475 - val_accuracy: 0.6883\n",
            "Epoch 23/150\n",
            "50000/50000 [==============================] - 137s 3ms/sample - loss: 0.6665 - accuracy: 0.7700 - val_loss: 1.0350 - val_accuracy: 0.6925\n",
            "Epoch 24/150\n",
            "50000/50000 [==============================] - 138s 3ms/sample - loss: 0.6670 - accuracy: 0.7693 - val_loss: 1.0345 - val_accuracy: 0.6978\n",
            "Epoch 25/150\n",
            "50000/50000 [==============================] - 137s 3ms/sample - loss: 0.6642 - accuracy: 0.7714 - val_loss: 1.0783 - val_accuracy: 0.6716\n",
            "Epoch 26/150\n",
            "50000/50000 [==============================] - 138s 3ms/sample - loss: 0.6510 - accuracy: 0.7753 - val_loss: 1.0836 - val_accuracy: 0.6870\n",
            "Epoch 27/150\n",
            "50000/50000 [==============================] - 136s 3ms/sample - loss: 0.6545 - accuracy: 0.7736 - val_loss: 1.0852 - val_accuracy: 0.6917\n",
            "Epoch 28/150\n",
            "50000/50000 [==============================] - 137s 3ms/sample - loss: 0.6471 - accuracy: 0.7757 - val_loss: 1.0778 - val_accuracy: 0.6835\n",
            "Epoch 29/150\n",
            "50000/50000 [==============================] - 137s 3ms/sample - loss: 0.6391 - accuracy: 0.7779 - val_loss: 1.0475 - val_accuracy: 0.6872\n",
            "Epoch 30/150\n",
            "50000/50000 [==============================] - 137s 3ms/sample - loss: 0.6341 - accuracy: 0.7795 - val_loss: 1.1819 - val_accuracy: 0.6745\n",
            "Epoch 31/150\n",
            "50000/50000 [==============================] - 137s 3ms/sample - loss: 0.6306 - accuracy: 0.7826 - val_loss: 1.0786 - val_accuracy: 0.6969\n",
            "Epoch 32/150\n",
            "50000/50000 [==============================] - 136s 3ms/sample - loss: 0.6158 - accuracy: 0.7861 - val_loss: 1.1019 - val_accuracy: 0.6802\n",
            "Epoch 33/150\n",
            "50000/50000 [==============================] - 133s 3ms/sample - loss: 0.6201 - accuracy: 0.7866 - val_loss: 1.0819 - val_accuracy: 0.6886\n",
            "Epoch 34/150\n",
            "50000/50000 [==============================] - 136s 3ms/sample - loss: 0.6135 - accuracy: 0.7891 - val_loss: 1.1140 - val_accuracy: 0.6838\n",
            "Epoch 35/150\n",
            "50000/50000 [==============================] - 137s 3ms/sample - loss: 0.6082 - accuracy: 0.7895 - val_loss: 1.1778 - val_accuracy: 0.6846\n",
            "Epoch 36/150\n",
            "50000/50000 [==============================] - 138s 3ms/sample - loss: 0.6130 - accuracy: 0.7885 - val_loss: 1.1030 - val_accuracy: 0.6928\n",
            "Epoch 37/150\n",
            "50000/50000 [==============================] - 136s 3ms/sample - loss: 0.5969 - accuracy: 0.7948 - val_loss: 1.1321 - val_accuracy: 0.6837\n",
            "Epoch 38/150\n",
            "50000/50000 [==============================] - 137s 3ms/sample - loss: 0.5890 - accuracy: 0.7956 - val_loss: 1.1822 - val_accuracy: 0.6932\n",
            "Epoch 39/150\n",
            "50000/50000 [==============================] - 138s 3ms/sample - loss: 0.5921 - accuracy: 0.7951 - val_loss: 1.1395 - val_accuracy: 0.6827\n",
            "Epoch 40/150\n",
            "50000/50000 [==============================] - 135s 3ms/sample - loss: 0.5966 - accuracy: 0.7925 - val_loss: 1.1910 - val_accuracy: 0.6876\n",
            "Epoch 41/150\n",
            "50000/50000 [==============================] - 133s 3ms/sample - loss: 0.5849 - accuracy: 0.7990 - val_loss: 1.1116 - val_accuracy: 0.6916\n",
            "Epoch 42/150\n",
            "50000/50000 [==============================] - 137s 3ms/sample - loss: 0.5792 - accuracy: 0.8007 - val_loss: 1.2064 - val_accuracy: 0.6821\n",
            "Epoch 43/150\n",
            "50000/50000 [==============================] - 138s 3ms/sample - loss: 0.5837 - accuracy: 0.7984 - val_loss: 1.1563 - val_accuracy: 0.6747\n",
            "Epoch 44/150\n",
            "50000/50000 [==============================] - 141s 3ms/sample - loss: 0.5762 - accuracy: 0.8011 - val_loss: 1.1127 - val_accuracy: 0.6958\n",
            "Epoch 45/150\n",
            "50000/50000 [==============================] - 141s 3ms/sample - loss: 0.5733 - accuracy: 0.8021 - val_loss: 1.1719 - val_accuracy: 0.6970\n",
            "Epoch 46/150\n",
            "50000/50000 [==============================] - 140s 3ms/sample - loss: 0.5723 - accuracy: 0.8028 - val_loss: 1.1812 - val_accuracy: 0.6819\n",
            "Epoch 47/150\n",
            "50000/50000 [==============================] - 139s 3ms/sample - loss: 0.5761 - accuracy: 0.8012 - val_loss: 1.1266 - val_accuracy: 0.6785\n",
            "Epoch 48/150\n",
            "50000/50000 [==============================] - 137s 3ms/sample - loss: 0.5664 - accuracy: 0.8055 - val_loss: 1.2442 - val_accuracy: 0.6866\n",
            "Epoch 49/150\n",
            "50000/50000 [==============================] - 137s 3ms/sample - loss: 0.5641 - accuracy: 0.8054 - val_loss: 1.1621 - val_accuracy: 0.6798\n",
            "Epoch 50/150\n",
            "50000/50000 [==============================] - 138s 3ms/sample - loss: 0.5623 - accuracy: 0.8076 - val_loss: 1.1862 - val_accuracy: 0.6950\n",
            "Epoch 51/150\n",
            "50000/50000 [==============================] - 137s 3ms/sample - loss: 0.5618 - accuracy: 0.8072 - val_loss: 1.2017 - val_accuracy: 0.6872\n",
            "Epoch 52/150\n",
            "50000/50000 [==============================] - 138s 3ms/sample - loss: 0.5668 - accuracy: 0.8058 - val_loss: 1.1849 - val_accuracy: 0.6897\n",
            "Epoch 53/150\n",
            "50000/50000 [==============================] - 134s 3ms/sample - loss: 0.5567 - accuracy: 0.8081 - val_loss: 1.2025 - val_accuracy: 0.6894\n",
            "Epoch 54/150\n",
            "50000/50000 [==============================] - 134s 3ms/sample - loss: 0.5415 - accuracy: 0.8152 - val_loss: 1.2651 - val_accuracy: 0.6775\n",
            "Epoch 55/150\n",
            "50000/50000 [==============================] - 135s 3ms/sample - loss: 0.5441 - accuracy: 0.8128 - val_loss: 1.2178 - val_accuracy: 0.6888\n",
            "Epoch 56/150\n",
            "50000/50000 [==============================] - 134s 3ms/sample - loss: 0.5472 - accuracy: 0.8129 - val_loss: 1.2356 - val_accuracy: 0.6816\n",
            "Epoch 57/150\n",
            "50000/50000 [==============================] - 135s 3ms/sample - loss: 0.5549 - accuracy: 0.8101 - val_loss: 1.3075 - val_accuracy: 0.6876\n",
            "Epoch 58/150\n",
            "50000/50000 [==============================] - 136s 3ms/sample - loss: 0.5472 - accuracy: 0.8122 - val_loss: 1.3121 - val_accuracy: 0.6754\n",
            "Epoch 59/150\n",
            "50000/50000 [==============================] - 135s 3ms/sample - loss: 0.5417 - accuracy: 0.8143 - val_loss: 1.2769 - val_accuracy: 0.6820\n",
            "Epoch 60/150\n",
            "50000/50000 [==============================] - 134s 3ms/sample - loss: 0.5293 - accuracy: 0.8190 - val_loss: 1.2652 - val_accuracy: 0.6719\n",
            "Epoch 61/150\n",
            "50000/50000 [==============================] - 136s 3ms/sample - loss: 0.5369 - accuracy: 0.8160 - val_loss: 1.2503 - val_accuracy: 0.6751\n",
            "Epoch 62/150\n",
            "50000/50000 [==============================] - 134s 3ms/sample - loss: 0.5348 - accuracy: 0.8171 - val_loss: 1.2509 - val_accuracy: 0.6838\n",
            "Epoch 63/150\n",
            "50000/50000 [==============================] - 137s 3ms/sample - loss: 0.5383 - accuracy: 0.8166 - val_loss: 1.2665 - val_accuracy: 0.6890\n",
            "Epoch 64/150\n",
            "50000/50000 [==============================] - 137s 3ms/sample - loss: 0.5339 - accuracy: 0.8187 - val_loss: 1.2560 - val_accuracy: 0.6861\n",
            "Epoch 65/150\n",
            "50000/50000 [==============================] - 135s 3ms/sample - loss: 0.5328 - accuracy: 0.8189 - val_loss: 1.3600 - val_accuracy: 0.6770\n",
            "Epoch 66/150\n",
            "50000/50000 [==============================] - 136s 3ms/sample - loss: 0.5380 - accuracy: 0.8168 - val_loss: 1.3191 - val_accuracy: 0.6781\n",
            "Epoch 67/150\n",
            "50000/50000 [==============================] - 135s 3ms/sample - loss: 0.5342 - accuracy: 0.8196 - val_loss: 1.3144 - val_accuracy: 0.6836\n",
            "Epoch 68/150\n",
            "50000/50000 [==============================] - 134s 3ms/sample - loss: 0.5224 - accuracy: 0.8223 - val_loss: 1.3213 - val_accuracy: 0.6809\n",
            "Epoch 69/150\n",
            "50000/50000 [==============================] - 134s 3ms/sample - loss: 0.5227 - accuracy: 0.8230 - val_loss: 1.3061 - val_accuracy: 0.6823\n",
            "Epoch 70/150\n",
            "50000/50000 [==============================] - 133s 3ms/sample - loss: 0.5152 - accuracy: 0.8230 - val_loss: 1.3742 - val_accuracy: 0.6782\n",
            "Epoch 71/150\n",
            "50000/50000 [==============================] - 134s 3ms/sample - loss: 0.5204 - accuracy: 0.8214 - val_loss: 1.3345 - val_accuracy: 0.6787\n",
            "Epoch 72/150\n",
            "50000/50000 [==============================] - 134s 3ms/sample - loss: 0.5166 - accuracy: 0.8242 - val_loss: 1.3871 - val_accuracy: 0.6758\n",
            "Epoch 73/150\n",
            "50000/50000 [==============================] - 131s 3ms/sample - loss: 0.5111 - accuracy: 0.8245 - val_loss: 1.4193 - val_accuracy: 0.6766\n",
            "Epoch 74/150\n",
            "50000/50000 [==============================] - 135s 3ms/sample - loss: 0.5177 - accuracy: 0.8248 - val_loss: 1.3075 - val_accuracy: 0.6802\n",
            "Epoch 75/150\n",
            "50000/50000 [==============================] - 136s 3ms/sample - loss: 0.5063 - accuracy: 0.8297 - val_loss: 1.3603 - val_accuracy: 0.6777\n",
            "Epoch 76/150\n",
            "50000/50000 [==============================] - 138s 3ms/sample - loss: 0.5104 - accuracy: 0.8274 - val_loss: 1.3055 - val_accuracy: 0.6718\n",
            "Epoch 77/150\n",
            "50000/50000 [==============================] - 137s 3ms/sample - loss: 0.5128 - accuracy: 0.8256 - val_loss: 1.4811 - val_accuracy: 0.6737\n",
            "Epoch 78/150\n",
            "50000/50000 [==============================] - 137s 3ms/sample - loss: 0.5034 - accuracy: 0.8278 - val_loss: 1.4360 - val_accuracy: 0.6788\n",
            "Epoch 79/150\n",
            "50000/50000 [==============================] - 138s 3ms/sample - loss: 0.5041 - accuracy: 0.8292 - val_loss: 1.3124 - val_accuracy: 0.6744\n",
            "Epoch 80/150\n",
            "50000/50000 [==============================] - 139s 3ms/sample - loss: 0.5026 - accuracy: 0.8296 - val_loss: 1.4656 - val_accuracy: 0.6770\n",
            "Epoch 81/150\n",
            "50000/50000 [==============================] - 140s 3ms/sample - loss: 0.5018 - accuracy: 0.8312 - val_loss: 1.3997 - val_accuracy: 0.6836\n",
            "Epoch 82/150\n",
            "50000/50000 [==============================] - 138s 3ms/sample - loss: 0.5074 - accuracy: 0.8311 - val_loss: 1.4089 - val_accuracy: 0.6838\n",
            "Epoch 83/150\n",
            "50000/50000 [==============================] - 139s 3ms/sample - loss: 0.5005 - accuracy: 0.8318 - val_loss: 1.3651 - val_accuracy: 0.6798\n",
            "Epoch 84/150\n",
            "50000/50000 [==============================] - 136s 3ms/sample - loss: 0.5100 - accuracy: 0.8277 - val_loss: 1.4375 - val_accuracy: 0.6755\n",
            "Epoch 85/150\n",
            "50000/50000 [==============================] - 132s 3ms/sample - loss: 0.5036 - accuracy: 0.8298 - val_loss: 1.4173 - val_accuracy: 0.6773\n",
            "Epoch 86/150\n",
            "50000/50000 [==============================] - 137s 3ms/sample - loss: 0.5013 - accuracy: 0.8317 - val_loss: 1.4965 - val_accuracy: 0.6739\n",
            "Epoch 87/150\n",
            "50000/50000 [==============================] - 136s 3ms/sample - loss: 0.5038 - accuracy: 0.8321 - val_loss: 1.3876 - val_accuracy: 0.6739\n",
            "Epoch 88/150\n",
            "50000/50000 [==============================] - 136s 3ms/sample - loss: 0.5001 - accuracy: 0.8302 - val_loss: 1.4578 - val_accuracy: 0.6750\n",
            "Epoch 89/150\n",
            "50000/50000 [==============================] - 138s 3ms/sample - loss: 0.4921 - accuracy: 0.8354 - val_loss: 1.4510 - val_accuracy: 0.6813\n",
            "Epoch 90/150\n",
            "50000/50000 [==============================] - 138s 3ms/sample - loss: 0.5053 - accuracy: 0.8312 - val_loss: 1.4395 - val_accuracy: 0.6766\n",
            "Epoch 91/150\n",
            "50000/50000 [==============================] - 137s 3ms/sample - loss: 0.4913 - accuracy: 0.8332 - val_loss: 1.4503 - val_accuracy: 0.6863\n",
            "Epoch 92/150\n",
            "50000/50000 [==============================] - 135s 3ms/sample - loss: 0.4967 - accuracy: 0.8328 - val_loss: 1.4368 - val_accuracy: 0.6771\n",
            "Epoch 93/150\n",
            "50000/50000 [==============================] - 133s 3ms/sample - loss: 0.4970 - accuracy: 0.8355 - val_loss: 1.5317 - val_accuracy: 0.6858\n",
            "Epoch 94/150\n",
            "50000/50000 [==============================] - 136s 3ms/sample - loss: 0.4975 - accuracy: 0.8337 - val_loss: 1.4655 - val_accuracy: 0.6783\n",
            "Epoch 95/150\n",
            "50000/50000 [==============================] - 136s 3ms/sample - loss: 0.5040 - accuracy: 0.8316 - val_loss: 1.4346 - val_accuracy: 0.6837\n",
            "Epoch 96/150\n",
            "50000/50000 [==============================] - 135s 3ms/sample - loss: 0.4929 - accuracy: 0.8363 - val_loss: 1.5131 - val_accuracy: 0.6739\n",
            "Epoch 97/150\n",
            "50000/50000 [==============================] - 136s 3ms/sample - loss: 0.4927 - accuracy: 0.8345 - val_loss: 1.4955 - val_accuracy: 0.6782\n",
            "Epoch 98/150\n",
            "50000/50000 [==============================] - 134s 3ms/sample - loss: 0.4858 - accuracy: 0.8399 - val_loss: 1.5316 - val_accuracy: 0.6787\n",
            "Epoch 99/150\n",
            "50000/50000 [==============================] - 134s 3ms/sample - loss: 0.4882 - accuracy: 0.8386 - val_loss: 1.5483 - val_accuracy: 0.6834\n",
            "Epoch 100/150\n",
            "50000/50000 [==============================] - 134s 3ms/sample - loss: 0.4826 - accuracy: 0.8394 - val_loss: 1.6758 - val_accuracy: 0.6706\n",
            "Epoch 101/150\n",
            "50000/50000 [==============================] - 133s 3ms/sample - loss: 0.4931 - accuracy: 0.8353 - val_loss: 1.5256 - val_accuracy: 0.6778\n",
            "Epoch 102/150\n",
            "50000/50000 [==============================] - 136s 3ms/sample - loss: 0.4824 - accuracy: 0.8394 - val_loss: 1.4995 - val_accuracy: 0.6758\n",
            "Epoch 103/150\n",
            "50000/50000 [==============================] - 134s 3ms/sample - loss: 0.4890 - accuracy: 0.8369 - val_loss: 1.4664 - val_accuracy: 0.6787\n",
            "Epoch 104/150\n",
            "50000/50000 [==============================] - 129s 3ms/sample - loss: 0.4818 - accuracy: 0.8387 - val_loss: 1.4791 - val_accuracy: 0.6820\n",
            "Epoch 105/150\n",
            "50000/50000 [==============================] - 134s 3ms/sample - loss: 0.4807 - accuracy: 0.8396 - val_loss: 1.5232 - val_accuracy: 0.6777\n",
            "Epoch 106/150\n",
            "50000/50000 [==============================] - 136s 3ms/sample - loss: 0.4724 - accuracy: 0.8424 - val_loss: 1.6596 - val_accuracy: 0.6757\n",
            "Epoch 107/150\n",
            "50000/50000 [==============================] - 137s 3ms/sample - loss: 0.4819 - accuracy: 0.8409 - val_loss: 1.5732 - val_accuracy: 0.6704\n",
            "Epoch 108/150\n",
            "50000/50000 [==============================] - 135s 3ms/sample - loss: 0.4806 - accuracy: 0.8408 - val_loss: 1.5229 - val_accuracy: 0.6778\n",
            "Epoch 109/150\n",
            "50000/50000 [==============================] - 139s 3ms/sample - loss: 0.4768 - accuracy: 0.8416 - val_loss: 1.5988 - val_accuracy: 0.6796\n",
            "Epoch 110/150\n",
            "50000/50000 [==============================] - 139s 3ms/sample - loss: 0.4638 - accuracy: 0.8451 - val_loss: 1.6330 - val_accuracy: 0.6722\n",
            "Epoch 111/150\n",
            "50000/50000 [==============================] - 139s 3ms/sample - loss: 0.4816 - accuracy: 0.8415 - val_loss: 1.6655 - val_accuracy: 0.6688\n",
            "Epoch 112/150\n",
            "50000/50000 [==============================] - 138s 3ms/sample - loss: 0.4841 - accuracy: 0.8408 - val_loss: 1.5138 - val_accuracy: 0.6710\n",
            "Epoch 113/150\n",
            "50000/50000 [==============================] - 138s 3ms/sample - loss: 0.4839 - accuracy: 0.8405 - val_loss: 1.5537 - val_accuracy: 0.6802\n",
            "Epoch 114/150\n",
            "50000/50000 [==============================] - 138s 3ms/sample - loss: 0.4726 - accuracy: 0.8443 - val_loss: 1.5682 - val_accuracy: 0.6773\n",
            "Epoch 115/150\n",
            "50000/50000 [==============================] - 139s 3ms/sample - loss: 0.4696 - accuracy: 0.8456 - val_loss: 1.6219 - val_accuracy: 0.6794\n",
            "Epoch 116/150\n",
            "50000/50000 [==============================] - 138s 3ms/sample - loss: 0.4715 - accuracy: 0.8440 - val_loss: 1.5929 - val_accuracy: 0.6782\n",
            "Epoch 117/150\n",
            "50000/50000 [==============================] - 138s 3ms/sample - loss: 0.4625 - accuracy: 0.8473 - val_loss: 1.5419 - val_accuracy: 0.6788\n",
            "Epoch 118/150\n",
            "50000/50000 [==============================] - 140s 3ms/sample - loss: 0.4682 - accuracy: 0.8445 - val_loss: 1.6717 - val_accuracy: 0.6740\n",
            "Epoch 119/150\n",
            "50000/50000 [==============================] - 133s 3ms/sample - loss: 0.4745 - accuracy: 0.8449 - val_loss: 1.5848 - val_accuracy: 0.6745\n",
            "Epoch 120/150\n",
            "50000/50000 [==============================] - 132s 3ms/sample - loss: 0.4795 - accuracy: 0.8411 - val_loss: 1.6540 - val_accuracy: 0.6635\n",
            "Epoch 121/150\n",
            "50000/50000 [==============================] - 134s 3ms/sample - loss: 0.4611 - accuracy: 0.8481 - val_loss: 1.6115 - val_accuracy: 0.6738\n",
            "Epoch 122/150\n",
            "50000/50000 [==============================] - 135s 3ms/sample - loss: 0.4699 - accuracy: 0.8463 - val_loss: 1.6327 - val_accuracy: 0.6782\n",
            "Epoch 123/150\n",
            "50000/50000 [==============================] - 136s 3ms/sample - loss: 0.4702 - accuracy: 0.8465 - val_loss: 1.6106 - val_accuracy: 0.6720\n",
            "Epoch 124/150\n",
            "50000/50000 [==============================] - 136s 3ms/sample - loss: 0.4684 - accuracy: 0.8460 - val_loss: 1.6418 - val_accuracy: 0.6759\n",
            "Epoch 125/150\n",
            "50000/50000 [==============================] - 137s 3ms/sample - loss: 0.4802 - accuracy: 0.8403 - val_loss: 1.5683 - val_accuracy: 0.6746\n",
            "Epoch 126/150\n",
            "50000/50000 [==============================] - 137s 3ms/sample - loss: 0.4777 - accuracy: 0.8436 - val_loss: 1.6662 - val_accuracy: 0.6720\n",
            "Epoch 127/150\n",
            "50000/50000 [==============================] - 135s 3ms/sample - loss: 0.4715 - accuracy: 0.8455 - val_loss: 1.6424 - val_accuracy: 0.6763\n",
            "Epoch 128/150\n",
            "50000/50000 [==============================] - 133s 3ms/sample - loss: 0.4670 - accuracy: 0.8470 - val_loss: 1.6554 - val_accuracy: 0.6804\n",
            "Epoch 129/150\n",
            "50000/50000 [==============================] - 135s 3ms/sample - loss: 0.4683 - accuracy: 0.8462 - val_loss: 1.6242 - val_accuracy: 0.6793\n",
            "Epoch 130/150\n",
            "50000/50000 [==============================] - 135s 3ms/sample - loss: 0.4688 - accuracy: 0.8485 - val_loss: 1.7160 - val_accuracy: 0.6670\n",
            "Epoch 131/150\n",
            "50000/50000 [==============================] - 135s 3ms/sample - loss: 0.4702 - accuracy: 0.8460 - val_loss: 1.6607 - val_accuracy: 0.6716\n",
            "Epoch 132/150\n",
            "50000/50000 [==============================] - 133s 3ms/sample - loss: 0.4615 - accuracy: 0.8501 - val_loss: 1.6472 - val_accuracy: 0.6867\n",
            "Epoch 133/150\n",
            "50000/50000 [==============================] - 134s 3ms/sample - loss: 0.4666 - accuracy: 0.8477 - val_loss: 1.6006 - val_accuracy: 0.6808\n",
            "Epoch 134/150\n",
            "50000/50000 [==============================] - 137s 3ms/sample - loss: 0.4574 - accuracy: 0.8500 - val_loss: 1.6974 - val_accuracy: 0.6749\n",
            "Epoch 135/150\n",
            "50000/50000 [==============================] - 137s 3ms/sample - loss: 0.4663 - accuracy: 0.8470 - val_loss: 1.6882 - val_accuracy: 0.6737\n",
            "Epoch 136/150\n",
            "50000/50000 [==============================] - 136s 3ms/sample - loss: 0.4562 - accuracy: 0.8526 - val_loss: 1.7379 - val_accuracy: 0.6737\n",
            "Epoch 137/150\n",
            "50000/50000 [==============================] - 135s 3ms/sample - loss: 0.4572 - accuracy: 0.8506 - val_loss: 1.7308 - val_accuracy: 0.6756\n",
            "Epoch 138/150\n",
            "50000/50000 [==============================] - 136s 3ms/sample - loss: 0.4632 - accuracy: 0.8491 - val_loss: 1.6067 - val_accuracy: 0.6774\n",
            "Epoch 139/150\n",
            "50000/50000 [==============================] - 137s 3ms/sample - loss: 0.4619 - accuracy: 0.8492 - val_loss: 1.6971 - val_accuracy: 0.6800\n",
            "Epoch 140/150\n",
            "50000/50000 [==============================] - 133s 3ms/sample - loss: 0.4597 - accuracy: 0.8496 - val_loss: 1.6795 - val_accuracy: 0.6701\n",
            "Epoch 141/150\n",
            "50000/50000 [==============================] - 134s 3ms/sample - loss: 0.4673 - accuracy: 0.8492 - val_loss: 1.6813 - val_accuracy: 0.6761\n",
            "Epoch 142/150\n",
            "50000/50000 [==============================] - 135s 3ms/sample - loss: 0.4556 - accuracy: 0.8518 - val_loss: 1.6624 - val_accuracy: 0.6735\n",
            "Epoch 143/150\n",
            "50000/50000 [==============================] - 136s 3ms/sample - loss: 0.4601 - accuracy: 0.8506 - val_loss: 1.6180 - val_accuracy: 0.6809\n",
            "Epoch 144/150\n",
            "50000/50000 [==============================] - 135s 3ms/sample - loss: 0.4676 - accuracy: 0.8483 - val_loss: 1.6000 - val_accuracy: 0.6727\n",
            "Epoch 145/150\n",
            "50000/50000 [==============================] - 136s 3ms/sample - loss: 0.4499 - accuracy: 0.8541 - val_loss: 1.6303 - val_accuracy: 0.6780\n",
            "Epoch 146/150\n",
            "50000/50000 [==============================] - 136s 3ms/sample - loss: 0.4533 - accuracy: 0.8543 - val_loss: 1.6734 - val_accuracy: 0.6730\n",
            "Epoch 147/150\n",
            "50000/50000 [==============================] - 135s 3ms/sample - loss: 0.4612 - accuracy: 0.8533 - val_loss: 1.7359 - val_accuracy: 0.6678\n",
            "Epoch 148/150\n",
            "50000/50000 [==============================] - 135s 3ms/sample - loss: 0.4656 - accuracy: 0.8485 - val_loss: 1.6185 - val_accuracy: 0.6677\n",
            "Epoch 149/150\n",
            "50000/50000 [==============================] - 137s 3ms/sample - loss: 0.4659 - accuracy: 0.8494 - val_loss: 1.6847 - val_accuracy: 0.6710\n",
            "Epoch 150/150\n",
            "50000/50000 [==============================] - 137s 3ms/sample - loss: 0.4536 - accuracy: 0.8544 - val_loss: 1.7360 - val_accuracy: 0.6806\n"
          ],
          "name": "stdout"
        }
      ]
    },
    {
      "cell_type": "code",
      "metadata": {
        "id": "AZUh_qFyy1Fa",
        "colab_type": "code",
        "colab": {
          "base_uri": "https://localhost:8080/",
          "height": 35
        },
        "outputId": "65db6150-da7e-44d1-93b4-84fd29b4274a"
      },
      "source": [
        "test_loss, test_acc = model.evaluate(test_images,  test_labels, verbose=2)\n"
      ],
      "execution_count": null,
      "outputs": [
        {
          "output_type": "stream",
          "text": [
            "10000/1 - 5s - loss: 1.6260 - accuracy: 0.4062\n"
          ],
          "name": "stdout"
        }
      ]
    },
    {
      "cell_type": "code",
      "metadata": {
        "id": "gg7iROe9y4gS",
        "colab_type": "code",
        "colab": {
          "base_uri": "https://localhost:8080/",
          "height": 35
        },
        "outputId": "a98b7bdc-2e3e-4d22-be9e-035589565d4c"
      },
      "source": [
        "print(test_acc)\n"
      ],
      "execution_count": null,
      "outputs": [
        {
          "output_type": "stream",
          "text": [
            "0.4062\n"
          ],
          "name": "stdout"
        }
      ]
    },
    {
      "cell_type": "code",
      "metadata": {
        "id": "gN86ZnCAzQqr",
        "colab_type": "code",
        "colab": {
          "base_uri": "https://localhost:8080/",
          "height": 590
        },
        "outputId": "13e75995-d813-4348-ffbe-ac4a43b71252"
      },
      "source": [
        "import matplotlib.pyplot as plt\n",
        "\n",
        "print(results.history.keys())\n",
        "# summarize history for accuracy\n",
        "plt.plot(results.history['accuracy'])\n",
        "plt.plot(results.history['val_accuracy'])\n",
        "plt.title('model accuracy')\n",
        "plt.ylabel('accuracy')\n",
        "plt.xlabel('epoch')\n",
        "plt.legend(['train', 'test'], loc='upper left')\n",
        "plt.show()\n",
        "# summarize history for loss\n",
        "plt.plot(results.history['loss'])\n",
        "plt.plot(results.history['val_loss'])\n",
        "plt.title('model loss')\n",
        "plt.ylabel('loss')\n",
        "plt.xlabel('epoch')\n",
        "plt.legend(['train', 'test'], loc='upper left')\n",
        "plt.show()\n",
        " "
      ],
      "execution_count": null,
      "outputs": [
        {
          "output_type": "stream",
          "text": [
            "dict_keys(['loss', 'accuracy', 'val_loss', 'val_accuracy'])\n"
          ],
          "name": "stdout"
        },
        {
          "output_type": "display_data",
          "data": {
            "image/png": "[encoded data removed]",
            "text/plain": [
              "<Figure size 432x288 with 1 Axes>"
            ]
          },
          "metadata": {
            "tags": [],
            "needs_background": "light"
          }
        },
        {
          "output_type": "display_data",
          "data": {
            "image/png": "[encoded data removed]",
            "text/plain": [
              "<Figure size 432x288 with 1 Axes>"
            ]
          },
          "metadata": {
            "tags": [],
            "needs_background": "light"
          }
        }
      ]
    },
    {
      "cell_type": "code",
      "metadata": {
        "id": "NbTand6leAhA",
        "colab_type": "code",
        "colab": {
          "base_uri": "https://localhost:8080/",
          "height": 35
        },
        "outputId": "eac10ba4-7d60-47c9-e730-209a09845a49"
      },
      "source": [
        "opt = keras.optimizers.RMSprop()\n",
        "len(opt.get_weights())"
      ],
      "execution_count": null,
      "outputs": [
        {
          "output_type": "execute_result",
          "data": {
            "text/plain": [
              "0"
            ]
          },
          "metadata": {
            "tags": []
          },
          "execution_count": 17
        }
      ]
    }
  ]
}